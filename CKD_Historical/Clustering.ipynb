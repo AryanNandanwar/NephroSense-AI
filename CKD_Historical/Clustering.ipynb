{
 "cells": [
  {
   "cell_type": "code",
   "execution_count": 1,
   "metadata": {},
   "outputs": [],
   "source": [
    "import pandas as pd\n",
    "from sklearn.preprocessing import PowerTransformer, StandardScaler\n",
    "from sklearn.compose import ColumnTransformer\n",
    "from sklearn.pipeline import Pipeline\n",
    "from sklearn.cluster import KMeans\n",
    "from sklearn.metrics import silhouette_score, calinski_harabasz_score, davies_bouldin_score\n",
    "import pickle"
   ]
  },
  {
   "cell_type": "code",
   "execution_count": 2,
   "metadata": {},
   "outputs": [],
   "source": [
    "data = pd.read_csv('updated_medical_lifestyle_dataset.csv')"
   ]
  },
  {
   "cell_type": "code",
   "execution_count": 3,
   "metadata": {},
   "outputs": [],
   "source": [
    "\n",
    "numerical_features = ['serum_creatinine', 'gfr', 'bun', 'serum_calcium', 'oxalate_levels', 'urine_ph', 'blood_pressure']\n",
    "data = data[numerical_features]\n"
   ]
  },
  {
   "cell_type": "code",
   "execution_count": 4,
   "metadata": {},
   "outputs": [],
   "source": [
    "scaler = StandardScaler()\n",
    "power_transformer = PowerTransformer(method='yeo-johnson', standardize=True)\n",
    "\n",
    "numerical_transformer = Pipeline(steps=[\n",
    "        ('power_transform', power_transformer), \n",
    "        ('scaler', scaler)\n",
    "    ])\n",
    "\n",
    "    # Combine preprocessors in a column transformer\n",
    "preprocessor = ColumnTransformer(\n",
    "    transformers=[\n",
    "            ('num', numerical_transformer, numerical_features),\n",
    "            \n",
    "    ]\n",
    ")"
   ]
  },
  {
   "cell_type": "code",
   "execution_count": 5,
   "metadata": {},
   "outputs": [],
   "source": [
    "processed_data = preprocessor.fit_transform(data)\n",
    "    # Save the preprocessor pipeline"
   ]
  },
  {
   "cell_type": "code",
   "execution_count": 6,
   "metadata": {},
   "outputs": [],
   "source": [
    "# dbscan = DBSCAN(eps=1.5, min_samples=5)\n",
    "# labels = dbscan.fit_predict(processed_data)\n",
    "    \n",
    "\n",
    "\n",
    "kmeans = KMeans(n_clusters=7, random_state=42)\n",
    "labels = kmeans.fit_predict(processed_data)\n",
    "\n",
    "data['cluster'] = labels\n",
    "\n",
    "# with open('cluster_model.pkl', 'wb') as file:  # Use 'wb' mode for binary writing\n",
    "#     pickle.dump(kmeans, file)\n",
    "\n",
    "num_clusters = len(set(labels)) - (1 if -1 in labels else 0)\n",
    "num_noise_points = list(labels).count(-1)\n",
    "\n",
    "metrics = {}\n",
    "\n",
    "if num_clusters > 1:\n",
    "    non_noise_data = data[labels != -1]\n",
    "    non_noise_labels = labels[labels != -1]\n",
    "\n",
    "metrics['silhouette_score'] = silhouette_score(non_noise_data, non_noise_labels)\n",
    "metrics['calinski_harabasz_score'] = calinski_harabasz_score(non_noise_data, non_noise_labels)\n",
    "metrics['davies_bouldin_score'] = davies_bouldin_score(non_noise_data, non_noise_labels)"
   ]
  },
  {
   "cell_type": "code",
   "execution_count": 7,
   "metadata": {},
   "outputs": [
    {
     "name": "stdout",
     "output_type": "stream",
     "text": [
      "Silhouette Score: 0.1081572152831103\n",
      "Calinski-Harabasz Score: 1900.5003479170741\n",
      "Davies-Bouldin Score: 5.869431781240045\n"
     ]
    }
   ],
   "source": [
    "\n",
    "print(f\"Silhouette Score: {metrics['silhouette_score']}\")\n",
    "print(f\"Calinski-Harabasz Score: {metrics['calinski_harabasz_score']}\")\n",
    "print(f\"Davies-Bouldin Score: {metrics['davies_bouldin_score']}\")"
   ]
  },
  {
   "cell_type": "code",
   "execution_count": 8,
   "metadata": {},
   "outputs": [],
   "source": [
    "\n",
    "cluster_data = pd.DataFrame(data, columns=numerical_features)\n",
    "cluster_data['Cluster'] = labels\n"
   ]
  },
  {
   "cell_type": "code",
   "execution_count": 9,
   "metadata": {},
   "outputs": [
    {
     "name": "stdout",
     "output_type": "stream",
     "text": [
      "         serum_creatinine        gfr        bun  serum_calcium  \\\n",
      "Cluster                                                          \n",
      "0                0.853225  76.026179  13.997609       9.338160   \n",
      "1                0.843384  80.308409  13.478645       9.264033   \n",
      "2                3.188500  51.767160  99.695123       6.660409   \n",
      "3                0.834908  16.073113  13.512632       9.335233   \n",
      "4                0.836568  70.306562  12.876114       9.357155   \n",
      "5                0.871029  74.041041  13.636616       9.419180   \n",
      "6                0.867094  17.874469  13.344756       9.357261   \n",
      "\n",
      "         oxalate_levels  urine_ph  blood_pressure  \n",
      "Cluster                                            \n",
      "0              2.351360  6.459579      107.853724  \n",
      "1              1.324310  6.898451      105.623077  \n",
      "2              4.046387  4.948810      154.655016  \n",
      "3              2.454943  7.093243      104.959020  \n",
      "4              2.236652  7.167527       94.274696  \n",
      "5              2.237813  7.597534      110.463906  \n",
      "6              1.429185  6.954322      105.078842  \n"
     ]
    }
   ],
   "source": [
    "cluster_summary = cluster_data.groupby('Cluster').mean()\n",
    "print(cluster_summary)"
   ]
  },
  {
   "cell_type": "code",
   "execution_count": 10,
   "metadata": {},
   "outputs": [
    {
     "name": "stdout",
     "output_type": "stream",
     "text": [
      "   serum_creatinine         gfr         bun  serum_calcium  oxalate_levels  \\\n",
      "0          0.683683   32.946784    7.553739      10.039896        2.878164   \n",
      "1          3.809044   32.685035  141.347494       8.330543        4.767639   \n",
      "2          1.143827    2.079805   15.979104       9.419229        1.818613   \n",
      "3          4.804657  109.871407   53.307333       7.556631        4.051686   \n",
      "4          4.920235   42.214590  134.182157       7.289379        3.240920   \n",
      "\n",
      "   urine_ph  blood_pressure  cluster  \n",
      "0  7.864308      115.224217        5  \n",
      "1  4.920015      130.143900        2  \n",
      "2  6.188115       98.026072        6  \n",
      "3  5.278607      142.166650        2  \n",
      "4  4.862923      151.962572        2  \n"
     ]
    }
   ],
   "source": [
    "print(data.head())"
   ]
  },
  {
   "cell_type": "code",
   "execution_count": 11,
   "metadata": {},
   "outputs": [
    {
     "name": "stdout",
     "output_type": "stream",
     "text": [
      "Dataset saved as 'updated_dataset_with_clusters.csv'\n"
     ]
    }
   ],
   "source": [
    "# Save the dataset with the added 'cluster' column to a CSV file\n",
    "data.to_csv('updated_dataset_with_clusters.csv', index=False)\n",
    "\n",
    "print(\"Dataset saved as 'updated_dataset_with_clusters.csv'\")\n"
   ]
  }
 ],
 "metadata": {
  "kernelspec": {
   "display_name": ".venv",
   "language": "python",
   "name": "python3"
  },
  "language_info": {
   "codemirror_mode": {
    "name": "ipython",
    "version": 3
   },
   "file_extension": ".py",
   "mimetype": "text/x-python",
   "name": "python",
   "nbconvert_exporter": "python",
   "pygments_lexer": "ipython3",
   "version": "3.11.1"
  }
 },
 "nbformat": 4,
 "nbformat_minor": 2
}
